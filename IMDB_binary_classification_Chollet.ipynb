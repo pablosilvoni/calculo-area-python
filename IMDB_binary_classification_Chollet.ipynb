{
  "nbformat": 4,
  "nbformat_minor": 0,
  "metadata": {
    "colab": {
      "provenance": [],
      "authorship_tag": "ABX9TyMeRkEA8PgwnBcLwlSnamZ5",
      "include_colab_link": true
    },
    "kernelspec": {
      "name": "python3",
      "display_name": "Python 3"
    },
    "language_info": {
      "name": "python"
    }
  },
  "cells": [
    {
      "cell_type": "markdown",
      "metadata": {
        "id": "view-in-github",
        "colab_type": "text"
      },
      "source": [
        "<a href=\"https://colab.research.google.com/github/pablosilvoni/calculo-area-python/blob/master/IMDB_binary_classification_Chollet.ipynb\" target=\"_parent\"><img src=\"https://colab.research.google.com/assets/colab-badge.svg\" alt=\"Open In Colab\"/></a>"
      ]
    },
    {
      "cell_type": "markdown",
      "source": [
        "Listing 3.1 Loading the IMDB dataset"
      ],
      "metadata": {
        "id": "oMcxAhkLhqy_"
      }
    },
    {
      "cell_type": "code",
      "execution_count": 22,
      "metadata": {
        "id": "opsIatJbgDNf"
      },
      "outputs": [],
      "source": [
        "from keras.datasets import imdb\n",
        "(train_data, train_labels), (test_data, test_labels) = imdb.load_data(num_words=10000)\n"
      ]
    },
    {
      "cell_type": "markdown",
      "source": [
        "The argument num_words=10000 means you’ll only keep the top 10,000 most Frequently occurring words in the training data. Rare words will be discarded. This allows you to work with vector data of manageable size. The variables train_data and test_data are lists"
      ],
      "metadata": {
        "id": "EY_z8EtshfJH"
      }
    },
    {
      "cell_type": "code",
      "source": [
        "train_data[0]"
      ],
      "metadata": {
        "colab": {
          "base_uri": "https://localhost:8080/"
        },
        "collapsed": true,
        "id": "dhdhML-phmcv",
        "outputId": "8027a8d3-987b-462f-88dd-cb8c1ae4ab03"
      },
      "execution_count": 23,
      "outputs": [
        {
          "output_type": "execute_result",
          "data": {
            "text/plain": [
              "[1,\n",
              " 14,\n",
              " 22,\n",
              " 16,\n",
              " 43,\n",
              " 530,\n",
              " 973,\n",
              " 1622,\n",
              " 1385,\n",
              " 65,\n",
              " 458,\n",
              " 4468,\n",
              " 66,\n",
              " 3941,\n",
              " 4,\n",
              " 173,\n",
              " 36,\n",
              " 256,\n",
              " 5,\n",
              " 25,\n",
              " 100,\n",
              " 43,\n",
              " 838,\n",
              " 112,\n",
              " 50,\n",
              " 670,\n",
              " 2,\n",
              " 9,\n",
              " 35,\n",
              " 480,\n",
              " 284,\n",
              " 5,\n",
              " 150,\n",
              " 4,\n",
              " 172,\n",
              " 112,\n",
              " 167,\n",
              " 2,\n",
              " 336,\n",
              " 385,\n",
              " 39,\n",
              " 4,\n",
              " 172,\n",
              " 4536,\n",
              " 1111,\n",
              " 17,\n",
              " 546,\n",
              " 38,\n",
              " 13,\n",
              " 447,\n",
              " 4,\n",
              " 192,\n",
              " 50,\n",
              " 16,\n",
              " 6,\n",
              " 147,\n",
              " 2025,\n",
              " 19,\n",
              " 14,\n",
              " 22,\n",
              " 4,\n",
              " 1920,\n",
              " 4613,\n",
              " 469,\n",
              " 4,\n",
              " 22,\n",
              " 71,\n",
              " 87,\n",
              " 12,\n",
              " 16,\n",
              " 43,\n",
              " 530,\n",
              " 38,\n",
              " 76,\n",
              " 15,\n",
              " 13,\n",
              " 1247,\n",
              " 4,\n",
              " 22,\n",
              " 17,\n",
              " 515,\n",
              " 17,\n",
              " 12,\n",
              " 16,\n",
              " 626,\n",
              " 18,\n",
              " 2,\n",
              " 5,\n",
              " 62,\n",
              " 386,\n",
              " 12,\n",
              " 8,\n",
              " 316,\n",
              " 8,\n",
              " 106,\n",
              " 5,\n",
              " 4,\n",
              " 2223,\n",
              " 5244,\n",
              " 16,\n",
              " 480,\n",
              " 66,\n",
              " 3785,\n",
              " 33,\n",
              " 4,\n",
              " 130,\n",
              " 12,\n",
              " 16,\n",
              " 38,\n",
              " 619,\n",
              " 5,\n",
              " 25,\n",
              " 124,\n",
              " 51,\n",
              " 36,\n",
              " 135,\n",
              " 48,\n",
              " 25,\n",
              " 1415,\n",
              " 33,\n",
              " 6,\n",
              " 22,\n",
              " 12,\n",
              " 215,\n",
              " 28,\n",
              " 77,\n",
              " 52,\n",
              " 5,\n",
              " 14,\n",
              " 407,\n",
              " 16,\n",
              " 82,\n",
              " 2,\n",
              " 8,\n",
              " 4,\n",
              " 107,\n",
              " 117,\n",
              " 5952,\n",
              " 15,\n",
              " 256,\n",
              " 4,\n",
              " 2,\n",
              " 7,\n",
              " 3766,\n",
              " 5,\n",
              " 723,\n",
              " 36,\n",
              " 71,\n",
              " 43,\n",
              " 530,\n",
              " 476,\n",
              " 26,\n",
              " 400,\n",
              " 317,\n",
              " 46,\n",
              " 7,\n",
              " 4,\n",
              " 2,\n",
              " 1029,\n",
              " 13,\n",
              " 104,\n",
              " 88,\n",
              " 4,\n",
              " 381,\n",
              " 15,\n",
              " 297,\n",
              " 98,\n",
              " 32,\n",
              " 2071,\n",
              " 56,\n",
              " 26,\n",
              " 141,\n",
              " 6,\n",
              " 194,\n",
              " 7486,\n",
              " 18,\n",
              " 4,\n",
              " 226,\n",
              " 22,\n",
              " 21,\n",
              " 134,\n",
              " 476,\n",
              " 26,\n",
              " 480,\n",
              " 5,\n",
              " 144,\n",
              " 30,\n",
              " 5535,\n",
              " 18,\n",
              " 51,\n",
              " 36,\n",
              " 28,\n",
              " 224,\n",
              " 92,\n",
              " 25,\n",
              " 104,\n",
              " 4,\n",
              " 226,\n",
              " 65,\n",
              " 16,\n",
              " 38,\n",
              " 1334,\n",
              " 88,\n",
              " 12,\n",
              " 16,\n",
              " 283,\n",
              " 5,\n",
              " 16,\n",
              " 4472,\n",
              " 113,\n",
              " 103,\n",
              " 32,\n",
              " 15,\n",
              " 16,\n",
              " 5345,\n",
              " 19,\n",
              " 178,\n",
              " 32]"
            ]
          },
          "metadata": {},
          "execution_count": 23
        }
      ]
    },
    {
      "cell_type": "markdown",
      "source": [],
      "metadata": {
        "id": "9OslyZbMiPl4"
      }
    },
    {
      "cell_type": "code",
      "source": [
        "train_labels[0]"
      ],
      "metadata": {
        "colab": {
          "base_uri": "https://localhost:8080/"
        },
        "id": "RAxLjcCki-pD",
        "outputId": "916b92c4-aaf4-4a47-838b-c939e42859ea"
      },
      "execution_count": 24,
      "outputs": [
        {
          "output_type": "execute_result",
          "data": {
            "text/plain": [
              "np.int64(1)"
            ]
          },
          "metadata": {},
          "execution_count": 24
        }
      ]
    },
    {
      "cell_type": "markdown",
      "source": [
        "The variables train_data and test_data are lists of reviews; each review is a list of word indices (encoding a sequence of words). train_labels and test_labels are lists of 0s and 1s, where 0 stands for negative and 1 stands for positive:"
      ],
      "metadata": {
        "id": "NOSGc_XliTyo"
      }
    },
    {
      "cell_type": "code",
      "source": [
        "max([max(sequence) for sequence in train_data])"
      ],
      "metadata": {
        "colab": {
          "base_uri": "https://localhost:8080/"
        },
        "id": "yly7WofHjRMS",
        "outputId": "ed8b9e59-6abe-4438-ff05-5cdf60c25c03"
      },
      "execution_count": 25,
      "outputs": [
        {
          "output_type": "execute_result",
          "data": {
            "text/plain": [
              "9999"
            ]
          },
          "metadata": {},
          "execution_count": 25
        }
      ]
    },
    {
      "cell_type": "code",
      "source": [
        "word_index = imdb.get_word_index()\n",
        "reverse_word_index = dict([(value, key) for (key, value) in word_index.items()])"
      ],
      "metadata": {
        "id": "N2SLXvUMj1NS"
      },
      "execution_count": 86,
      "outputs": []
    },
    {
      "cell_type": "code",
      "source": [
        "decoded_review = ' '.join([reverse_word_index.get(i - 3, '?') for i in train_data[0]])"
      ],
      "metadata": {
        "id": "iWmhSwL0kH3T"
      },
      "execution_count": 87,
      "outputs": []
    },
    {
      "cell_type": "code",
      "source": [
        "print(decoded_review)"
      ],
      "metadata": {
        "colab": {
          "base_uri": "https://localhost:8080/"
        },
        "id": "4NKrYVq5luv7",
        "outputId": "0bca54de-569f-4ce3-b102-4862730d6174"
      },
      "execution_count": 66,
      "outputs": [
        {
          "output_type": "stream",
          "name": "stdout",
          "text": [
            "? this film was just brilliant casting location scenery story direction everyone's really suited the part they played and you could just imagine being there robert ? is an amazing actor and now the same being director ? father came from the same scottish island as myself so i loved the fact there was a real connection with this film the witty remarks throughout the film were great it was just brilliant so much that i bought the film as soon as it was released for ? and would recommend it to everyone to watch and the fly fishing was amazing really cried at the end it was so sad and you know what they say if you cry at a film it must have been good and this definitely was also ? to the two little boy's that played the ? of norman and paul they were just brilliant children are often left out of the ? list i think because the stars that play them all grown up are such a big profile for the whole film but these children are amazing and should be praised for what they have done don't you think the whole story was so lovely because it was true and was someone's life after all that was shared with us all\n"
          ]
        }
      ]
    },
    {
      "cell_type": "markdown",
      "source": [
        "Encoding the integer sequences into a binary matrix\n"
      ],
      "metadata": {
        "id": "hgc2RrJNnNnF"
      }
    },
    {
      "cell_type": "code",
      "source": [
        "import numpy as np\n",
        "def vectorize_sequences(sequences, dimension=10000):\n",
        "  results = np.zeros((len(sequences), dimension))\n",
        "  for i, sequence in enumerate(sequences):\n",
        "    results[i, sequence] = 1.\n",
        "  return results\n",
        "\n",
        "x_train = vectorize_sequences(train_data)\n",
        "x_test = vectorize_sequences(test_data)"
      ],
      "metadata": {
        "id": "IFfM_Z_xnTI9"
      },
      "execution_count": 26,
      "outputs": []
    },
    {
      "cell_type": "code",
      "source": [
        "x_train[0]"
      ],
      "metadata": {
        "colab": {
          "base_uri": "https://localhost:8080/"
        },
        "id": "M8AGAKPlvR_2",
        "outputId": "059df660-6738-471b-eeb4-938e555be1c1"
      },
      "execution_count": 12,
      "outputs": [
        {
          "output_type": "execute_result",
          "data": {
            "text/plain": [
              "array([0., 1., 1., ..., 0., 0., 0.])"
            ]
          },
          "metadata": {},
          "execution_count": 12
        }
      ]
    },
    {
      "cell_type": "markdown",
      "source": [
        "Explicación del código por DeepSeek, para saber que hace cada parte del código"
      ],
      "metadata": {
        "id": "phlSQ5MByTvg"
      }
    },
    {
      "cell_type": "code",
      "source": [
        "# First, get the word mapping\n",
        "word_index = imdb.get_word_index()\n",
        "reverse_word_index = dict([(value + 3, key) for (key, value) in word_index.items()])\n",
        "\n",
        "# Decode the original integer sequence (before vectorization)\n",
        "decoded_review = ' '.join([reverse_word_index.get(i, '?') for i in train_data[0]])\n",
        "print(\"Original Integer Sequence Decoded:\")\n",
        "print(decoded_review)\n",
        "print(\"\\n\")\n",
        "\n",
        "# Now, let's see the vectorized version and find which words are marked '1'\n",
        "print(\"The first 50 elements of the vectorized review (x_train[0][:50]):\")\n",
        "print(x_train[0][:50]) # Just look at the first 50 elements to see some 1s and 0s\n",
        "\n",
        "# Let's find the indices where the value is 1.0\n",
        "# This tells us the word IDs that are in the review\n",
        "indices_of_ones = np.where(x_train[0] == 1.0)[0]\n",
        "print(f\"\\nThere are {len(indices_of_ones)} words in this review.\")\n",
        "\n",
        "# Let's translate the first 10 of those indices back to words\n",
        "print(\"\\nSome of the words in this review (from the vectorized array):\")\n",
        "for word_id in indices_of_ones[:10]:\n",
        "    # Remember the offset! The word_id in the vector is the key in reverse_word_index\n",
        "    word = reverse_word_index.get(word_id, '?')\n",
        "    print(f\"Word ID {word_id} -> '{word}'\")"
      ],
      "metadata": {
        "colab": {
          "base_uri": "https://localhost:8080/"
        },
        "collapsed": true,
        "id": "FlsHn1RTwjXN",
        "outputId": "7b114e39-be63-4848-b9ca-093942a4911f"
      },
      "execution_count": 18,
      "outputs": [
        {
          "output_type": "stream",
          "name": "stdout",
          "text": [
            "Original Integer Sequence Decoded:\n",
            "? this film was just brilliant casting location scenery story direction everyone's really suited the part they played and you could just imagine being there robert ? is an amazing actor and now the same being director ? father came from the same scottish island as myself so i loved the fact there was a real connection with this film the witty remarks throughout the film were great it was just brilliant so much that i bought the film as soon as it was released for ? and would recommend it to everyone to watch and the fly fishing was amazing really cried at the end it was so sad and you know what they say if you cry at a film it must have been good and this definitely was also ? to the two little boy's that played the ? of norman and paul they were just brilliant children are often left out of the ? list i think because the stars that play them all grown up are such a big profile for the whole film but these children are amazing and should be praised for what they have done don't you think the whole story was so lovely because it was true and was someone's life after all that was shared with us all\n",
            "\n",
            "\n",
            "The first 50 elements of the vectorized review (x_train[0][:50]):\n",
            "[0. 1. 1. 0. 1. 1. 1. 1. 1. 1. 0. 0. 1. 1. 1. 1. 1. 1. 1. 1. 0. 1. 1. 0.\n",
            " 0. 1. 1. 0. 1. 0. 1. 0. 1. 1. 0. 1. 1. 0. 1. 1. 0. 0. 0. 1. 0. 0. 1. 0.\n",
            " 1. 0.]\n",
            "\n",
            "There are 120 words in this review.\n",
            "\n",
            "Some of the words in this review (from the vectorized array):\n",
            "Word ID 1 -> '?'\n",
            "Word ID 2 -> '?'\n",
            "Word ID 4 -> 'the'\n",
            "Word ID 5 -> 'and'\n",
            "Word ID 6 -> 'a'\n",
            "Word ID 7 -> 'of'\n",
            "Word ID 8 -> 'to'\n",
            "Word ID 9 -> 'is'\n",
            "Word ID 12 -> 'it'\n",
            "Word ID 13 -> 'i'\n"
          ]
        }
      ]
    },
    {
      "cell_type": "code",
      "source": [
        "# Get the shape of the entire x_train dataset\n",
        "print(\"Shape of entire x_train:\", x_train.shape)  # Output: (25000, 10000)\n",
        "\n",
        "# Get the shape of the first review vector\n",
        "print(\"Shape of x_train[0]:\", x_train[0].shape)   # Output: (10000,)"
      ],
      "metadata": {
        "colab": {
          "base_uri": "https://localhost:8080/"
        },
        "id": "L3KA4qGExjaG",
        "outputId": "1ab47593-c9b6-43a9-fc89-a1ff67102f3a"
      },
      "execution_count": 19,
      "outputs": [
        {
          "output_type": "stream",
          "name": "stdout",
          "text": [
            "Shape of entire x_train: (25000, 10000)\n",
            "Shape of x_train[0]: (10000,)\n"
          ]
        }
      ]
    },
    {
      "cell_type": "code",
      "source": [
        "dimension_of_first_review = x_train[0].shape[0]\n",
        "print(\"Dimension of x_train[0]:\", dimension_of_first_review)\n",
        "# Output: Dimension of x_train[0]: 10000"
      ],
      "metadata": {
        "colab": {
          "base_uri": "https://localhost:8080/"
        },
        "id": "LQOsU5fyxvWB",
        "outputId": "c9a22f59-ad70-40a4-d474-c0c966291c40"
      },
      "execution_count": 20,
      "outputs": [
        {
          "output_type": "stream",
          "name": "stdout",
          "text": [
            "Dimension of x_train[0]: 10000\n"
          ]
        }
      ]
    },
    {
      "cell_type": "code",
      "source": [
        "length_of_first_review = len(x_train[0])\n",
        "print(\"Length of x_train[0]:\", length_of_first_review)\n",
        "# Output: Length of x_train[0]: 10000"
      ],
      "metadata": {
        "colab": {
          "base_uri": "https://localhost:8080/"
        },
        "id": "1aq0SBxfxx8p",
        "outputId": "437770cf-148e-4bf2-e2ce-7d32f9b20766"
      },
      "execution_count": 21,
      "outputs": [
        {
          "output_type": "stream",
          "name": "stdout",
          "text": [
            "Length of x_train[0]: 10000\n"
          ]
        }
      ]
    },
    {
      "cell_type": "code",
      "source": [
        "size_of_first_review = x_train[0].size\n",
        "print(\"Size of x_train[0]:\", size_of_first_review)\n",
        "# Output: Size of x_train[0]: 10000"
      ],
      "metadata": {
        "colab": {
          "base_uri": "https://localhost:8080/"
        },
        "id": "YztB00Z9yOca",
        "outputId": "9c17f381-f652-47c3-dc60-20ebc6b20f35"
      },
      "execution_count": 22,
      "outputs": [
        {
          "output_type": "stream",
          "name": "stdout",
          "text": [
            "Size of x_train[0]: 10000\n"
          ]
        }
      ]
    },
    {
      "cell_type": "markdown",
      "source": [
        "Quick Summary & Recommendation\n",
        "\n",
        "Method\tWhat it returns\tBest for\n",
        "x_train[0].shape\tReturns a tuple: (10000,)\t✅ Best overall. Works for arrays of any dimension.\n",
        "\n",
        "len(x_train[0])\tReturns an integer: 10000\t✅ Good and simple. Use only for 1D arrays.\n",
        "\n",
        "x_train[0].size\tReturns an integer: 10000\tGetting the total number of elements, regardless of shape."
      ],
      "metadata": {
        "id": "5MXOiQnvykQR"
      }
    },
    {
      "cell_type": "code",
      "source": [
        "y_train = np.asarray(train_labels).astype('float32')\n",
        "y_test = np.asarray(test_labels).astype('float32')"
      ],
      "metadata": {
        "id": "efiUUB4fy687"
      },
      "execution_count": 27,
      "outputs": []
    },
    {
      "cell_type": "markdown",
      "source": [
        "Now the data is ready to be fed into a neural network."
      ],
      "metadata": {
        "id": "E71xlSkVzKT1"
      }
    },
    {
      "cell_type": "markdown",
      "source": [
        "Los datos de entrada son vectores y las etiquetas son escalares (unos y ceros): esta es la configuración más sencilla que encontrará. Un tipo de red que funciona bien en este tipo de problema es una pila simple de capas completamente conectadas (densas) con activaciones relu: Dense(16, activación='relu')."
      ],
      "metadata": {
        "id": "fBhwlS-izdzS"
      }
    },
    {
      "cell_type": "markdown",
      "source": [
        "![IMDB binary classification neural network.jpg](data:image/jpeg;base64,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)"
      ],
      "metadata": {
        "id": "T6m-ZiWO1l0d"
      }
    },
    {
      "cell_type": "markdown",
      "source": [
        "The model definition"
      ],
      "metadata": {
        "id": "hS7Cl7-H1xUS"
      }
    },
    {
      "cell_type": "code",
      "source": [
        "from keras import models\n",
        "from keras import layers\n",
        "model = models.Sequential()\n",
        "model.add(layers.Dense(16, activation='relu', input_shape=(10000,)))\n",
        "model.add(layers.Dense(16, activation='relu'))\n",
        "model.add(layers.Dense(1, activation='sigmoid'))"
      ],
      "metadata": {
        "id": "3y0F8n4B1zPX"
      },
      "execution_count": 28,
      "outputs": []
    },
    {
      "cell_type": "markdown",
      "source": [
        "Elección de la **función de perdida** y el **optimizador**\n",
        "\n",
        "La entropía cruzada **Crossentropy** suele ser la mejor opción cuando se trabaja con modelos que generan probabilidades"
      ],
      "metadata": {
        "id": "9USDpmhu35cA"
      }
    },
    {
      "cell_type": "markdown",
      "source": [
        "Este es el paso donde se configura el modelo con el *optimizador*\n",
        " **rmsprop** y la *función de pérdida* **binary_crossentropy**.\n",
        ""
      ],
      "metadata": {
        "id": "fYUY2vuj4cON"
      }
    },
    {
      "cell_type": "markdown",
      "source": [
        "**Compiling the model**"
      ],
      "metadata": {
        "id": "-tr3cXzE5xIA"
      }
    },
    {
      "cell_type": "code",
      "source": [
        "model.compile(optimizer='rmsprop',\n",
        "loss='binary_crossentropy',\n",
        "metrics=['accuracy'])"
      ],
      "metadata": {
        "id": "YqDx6FJy50bQ"
      },
      "execution_count": 29,
      "outputs": []
    },
    {
      "cell_type": "markdown",
      "source": [
        "Métrica de monitoreo de la precisión en el entrenamiento : metrics=['accuracy;]"
      ],
      "metadata": {
        "id": "dvPmvmMc58sa"
      }
    },
    {
      "cell_type": "markdown",
      "source": [
        "Configuring the optimizer (Si deseo configurar el optimizador) **Este es el que usaremos para el entrenamiento**"
      ],
      "metadata": {
        "id": "fzzTDOZr6smg"
      }
    },
    {
      "cell_type": "code",
      "source": [
        "from keras import optimizers\n",
        "model.compile(optimizer=optimizers.RMSprop(learning_rate=0.001),\n",
        "loss='binary_crossentropy',\n",
        "metrics=['accuracy'])"
      ],
      "metadata": {
        "id": "NowbNini6zWu"
      },
      "execution_count": 30,
      "outputs": []
    },
    {
      "cell_type": "markdown",
      "source": [
        "Using custom losses and metrics (Función de pérdidas y métricas personalizadas)"
      ],
      "metadata": {
        "id": "s0Xw2NhB7p80"
      }
    },
    {
      "cell_type": "code",
      "source": [
        "from keras import losses\n",
        "from keras import metrics\n",
        "model.compile(optimizer=optimizers.RMSprop(learning_rate=0.001),\n",
        "loss=losses.binary_crossentropy,\n",
        "metrics=[metrics.binary_accuracy])"
      ],
      "metadata": {
        "id": "kTEDyVkA75LY"
      },
      "execution_count": 74,
      "outputs": []
    },
    {
      "cell_type": "markdown",
      "source": [
        "Validating your approach - Configuración de datos de validación"
      ],
      "metadata": {
        "id": "xeHFGv1_8XEJ"
      }
    },
    {
      "cell_type": "markdown",
      "source": [
        "Setting aside a validation set"
      ],
      "metadata": {
        "id": "hbYuZYAD8hjG"
      }
    },
    {
      "cell_type": "code",
      "source": [
        "x_val = x_train[:10000]\n",
        "partial_x_train = x_train[10000:]\n",
        "y_val = y_train[:10000]\n",
        "partial_y_train = y_train[10000:]"
      ],
      "metadata": {
        "id": "VyHfCZ9C8jJJ"
      },
      "execution_count": 31,
      "outputs": []
    },
    {
      "cell_type": "markdown",
      "source": [
        "**Training your model** (Entrenamiento o aprendizaje)\n",
        "\n",
        "Ahora entrenaremos el modelo durante 20 épocas (20 iteraciones sobre todas las muestras en los tensores x_train e y_train), en minilotes de 512 muestras. Simultáneamente, monitorearemos la pérdida y la precisión en las 10 000 muestras que separamos. Para ello, pasaremos los datos de validación como el argumento \"validation_data\"."
      ],
      "metadata": {
        "id": "_IzAP5R285xc"
      }
    },
    {
      "cell_type": "code",
      "source": [
        "model.compile(optimizer='rmsprop',\n",
        "loss='binary_crossentropy',\n",
        "metrics=['acc'])\n",
        "\n",
        "history = model.fit(partial_x_train,\n",
        "partial_y_train,\n",
        "epochs=20,\n",
        "batch_size=512,\n",
        "validation_data=(x_val, y_val))"
      ],
      "metadata": {
        "colab": {
          "base_uri": "https://localhost:8080/"
        },
        "id": "ZhC6wXIy9T6N",
        "outputId": "19c97963-f8de-4a85-90d7-0e0e65d14672"
      },
      "execution_count": 32,
      "outputs": [
        {
          "output_type": "stream",
          "name": "stdout",
          "text": [
            "Epoch 1/20\n",
            "\u001b[1m30/30\u001b[0m \u001b[32m━━━━━━━━━━━━━━━━━━━━\u001b[0m\u001b[37m\u001b[0m \u001b[1m3s\u001b[0m 65ms/step - acc: 0.7063 - loss: 0.5983 - val_acc: 0.8631 - val_loss: 0.4168\n",
            "Epoch 2/20\n",
            "\u001b[1m30/30\u001b[0m \u001b[32m━━━━━━━━━━━━━━━━━━━━\u001b[0m\u001b[37m\u001b[0m \u001b[1m2s\u001b[0m 37ms/step - acc: 0.8914 - loss: 0.3607 - val_acc: 0.8702 - val_loss: 0.3445\n",
            "Epoch 3/20\n",
            "\u001b[1m30/30\u001b[0m \u001b[32m━━━━━━━━━━━━━━━━━━━━\u001b[0m\u001b[37m\u001b[0m \u001b[1m1s\u001b[0m 36ms/step - acc: 0.9156 - loss: 0.2688 - val_acc: 0.8855 - val_loss: 0.2976\n",
            "Epoch 4/20\n",
            "\u001b[1m30/30\u001b[0m \u001b[32m━━━━━━━━━━━━━━━━━━━━\u001b[0m\u001b[37m\u001b[0m \u001b[1m1s\u001b[0m 36ms/step - acc: 0.9329 - loss: 0.2137 - val_acc: 0.8838 - val_loss: 0.2888\n",
            "Epoch 5/20\n",
            "\u001b[1m30/30\u001b[0m \u001b[32m━━━━━━━━━━━━━━━━━━━━\u001b[0m\u001b[37m\u001b[0m \u001b[1m1s\u001b[0m 36ms/step - acc: 0.9472 - loss: 0.1731 - val_acc: 0.8826 - val_loss: 0.2894\n",
            "Epoch 6/20\n",
            "\u001b[1m30/30\u001b[0m \u001b[32m━━━━━━━━━━━━━━━━━━━━\u001b[0m\u001b[37m\u001b[0m \u001b[1m2s\u001b[0m 59ms/step - acc: 0.9501 - loss: 0.1553 - val_acc: 0.8881 - val_loss: 0.2796\n",
            "Epoch 7/20\n",
            "\u001b[1m30/30\u001b[0m \u001b[32m━━━━━━━━━━━━━━━━━━━━\u001b[0m\u001b[37m\u001b[0m \u001b[1m2s\u001b[0m 50ms/step - acc: 0.9612 - loss: 0.1324 - val_acc: 0.8856 - val_loss: 0.2893\n",
            "Epoch 8/20\n",
            "\u001b[1m30/30\u001b[0m \u001b[32m━━━━━━━━━━━━━━━━━━━━\u001b[0m\u001b[37m\u001b[0m \u001b[1m1s\u001b[0m 34ms/step - acc: 0.9680 - loss: 0.1109 - val_acc: 0.8864 - val_loss: 0.2949\n",
            "Epoch 9/20\n",
            "\u001b[1m30/30\u001b[0m \u001b[32m━━━━━━━━━━━━━━━━━━━━\u001b[0m\u001b[37m\u001b[0m \u001b[1m1s\u001b[0m 37ms/step - acc: 0.9735 - loss: 0.0978 - val_acc: 0.8799 - val_loss: 0.3295\n",
            "Epoch 10/20\n",
            "\u001b[1m30/30\u001b[0m \u001b[32m━━━━━━━━━━━━━━━━━━━━\u001b[0m\u001b[37m\u001b[0m \u001b[1m1s\u001b[0m 36ms/step - acc: 0.9756 - loss: 0.0866 - val_acc: 0.8803 - val_loss: 0.3406\n",
            "Epoch 11/20\n",
            "\u001b[1m30/30\u001b[0m \u001b[32m━━━━━━━━━━━━━━━━━━━━\u001b[0m\u001b[37m\u001b[0m \u001b[1m1s\u001b[0m 37ms/step - acc: 0.9805 - loss: 0.0731 - val_acc: 0.8811 - val_loss: 0.3388\n",
            "Epoch 12/20\n",
            "\u001b[1m30/30\u001b[0m \u001b[32m━━━━━━━━━━━━━━━━━━━━\u001b[0m\u001b[37m\u001b[0m \u001b[1m1s\u001b[0m 36ms/step - acc: 0.9864 - loss: 0.0601 - val_acc: 0.8761 - val_loss: 0.3584\n",
            "Epoch 13/20\n",
            "\u001b[1m30/30\u001b[0m \u001b[32m━━━━━━━━━━━━━━━━━━━━\u001b[0m\u001b[37m\u001b[0m \u001b[1m1s\u001b[0m 36ms/step - acc: 0.9882 - loss: 0.0535 - val_acc: 0.8775 - val_loss: 0.3755\n",
            "Epoch 14/20\n",
            "\u001b[1m30/30\u001b[0m \u001b[32m━━━━━━━━━━━━━━━━━━━━\u001b[0m\u001b[37m\u001b[0m \u001b[1m1s\u001b[0m 36ms/step - acc: 0.9911 - loss: 0.0448 - val_acc: 0.8759 - val_loss: 0.3926\n",
            "Epoch 15/20\n",
            "\u001b[1m30/30\u001b[0m \u001b[32m━━━━━━━━━━━━━━━━━━━━\u001b[0m\u001b[37m\u001b[0m \u001b[1m1s\u001b[0m 36ms/step - acc: 0.9939 - loss: 0.0379 - val_acc: 0.8765 - val_loss: 0.4159\n",
            "Epoch 16/20\n",
            "\u001b[1m30/30\u001b[0m \u001b[32m━━━━━━━━━━━━━━━━━━━━\u001b[0m\u001b[37m\u001b[0m \u001b[1m2s\u001b[0m 51ms/step - acc: 0.9952 - loss: 0.0317 - val_acc: 0.8682 - val_loss: 0.4540\n",
            "Epoch 17/20\n",
            "\u001b[1m30/30\u001b[0m \u001b[32m━━━━━━━━━━━━━━━━━━━━\u001b[0m\u001b[37m\u001b[0m \u001b[1m2s\u001b[0m 49ms/step - acc: 0.9959 - loss: 0.0278 - val_acc: 0.8702 - val_loss: 0.4641\n",
            "Epoch 18/20\n",
            "\u001b[1m30/30\u001b[0m \u001b[32m━━━━━━━━━━━━━━━━━━━━\u001b[0m\u001b[37m\u001b[0m \u001b[1m1s\u001b[0m 36ms/step - acc: 0.9972 - loss: 0.0237 - val_acc: 0.8737 - val_loss: 0.4746\n",
            "Epoch 19/20\n",
            "\u001b[1m30/30\u001b[0m \u001b[32m━━━━━━━━━━━━━━━━━━━━\u001b[0m\u001b[37m\u001b[0m \u001b[1m1s\u001b[0m 36ms/step - acc: 0.9983 - loss: 0.0196 - val_acc: 0.8673 - val_loss: 0.5134\n",
            "Epoch 20/20\n",
            "\u001b[1m30/30\u001b[0m \u001b[32m━━━━━━━━━━━━━━━━━━━━\u001b[0m\u001b[37m\u001b[0m \u001b[1m1s\u001b[0m 37ms/step - acc: 0.9983 - loss: 0.0180 - val_acc: 0.8697 - val_loss: 0.5272\n"
          ]
        }
      ]
    },
    {
      "cell_type": "markdown",
      "source": [
        "**History Object** (objeto history)\n",
        "\n",
        "Tener en cuenta que la llamada a model.fit() devuelve un objeto History. Este objeto tiene un miembro llamado history, que es un diccionario que contiene datos sobre todo lo ocurrido durante el entrenamiento. Veamos esto:\n",
        "\n",
        "El diccionario contiene cuatro entradas: una por cada métrica monitoreada durante el entrenamiento y la validación."
      ],
      "metadata": {
        "id": "nHXOILfh99TK"
      }
    },
    {
      "cell_type": "code",
      "source": [
        "history_dict = history.history\n",
        "history_dict.keys()\n",
        "\n",
        "\n"
      ],
      "metadata": {
        "colab": {
          "base_uri": "https://localhost:8080/"
        },
        "id": "1oBJ7-rq-Te-",
        "outputId": "30bf4b83-e1fa-47c9-bdd6-8850371172a7"
      },
      "execution_count": 38,
      "outputs": [
        {
          "output_type": "execute_result",
          "data": {
            "text/plain": [
              "dict_keys(['acc', 'loss', 'val_acc', 'val_loss'])"
            ]
          },
          "metadata": {},
          "execution_count": 38
        }
      ]
    },
    {
      "cell_type": "markdown",
      "source": [
        "**Plotting the training and validation loss**\n",
        "\n",
        "Ahora usaremos Matplotlib para representar gráficamente la pérdida de entrenamiento y validación, así como la precisión de entrenamiento y validación:"
      ],
      "metadata": {
        "id": "yHB2asNB-dwx"
      }
    },
    {
      "cell_type": "code",
      "source": [
        "import matplotlib.pyplot as plt\n",
        "\n",
        "history_dict = history.history\n",
        "loss_values = history_dict['loss']\n",
        "val_loss_values = history_dict['val_loss']\n",
        "# acc = history_dict['acc'] # Extract accuracy\n",
        "# val_acc = history_dict['val_acc'] # Extract validation accuracy\n",
        "\n",
        "epochs = range(1, len(acc) + 1)\n",
        "\n",
        "plt.plot(epochs, loss_values, 'bo', label='Training loss')\n",
        "plt.plot(epochs, val_loss_values, 'b', label='Validation loss')\n",
        "plt.title('Training and validation loss')\n",
        "plt.xlabel('Epochs')\n",
        "plt.ylabel('Loss')\n",
        "plt.legend()\n",
        "\n",
        "plt.show()"
      ],
      "metadata": {
        "colab": {
          "base_uri": "https://localhost:8080/",
          "height": 472
        },
        "id": "ia-cSWvYBTO9",
        "outputId": "0fa010d1-4a16-4d0b-ca98-5d78c4c25f6a"
      },
      "execution_count": 39,
      "outputs": [
        {
          "output_type": "display_data",
          "data": {
            "text/plain": [
              "<Figure size 640x480 with 1 Axes>"
            ],
            "image/png": "[encoded data removed]"
          },
          "metadata": {}
        }
      ]
    },
    {
      "cell_type": "markdown",
      "source": [
        "**Plotting the training and validation accuracy**"
      ],
      "metadata": {
        "id": "41FTKgGvE3iy"
      }
    },
    {
      "cell_type": "code",
      "source": [
        "plt.clf() # Clears the figure\n",
        "\n",
        "acc_values = history_dict['acc']\n",
        "val_acc_values = history_dict['val_acc']\n",
        "\n",
        "plt.plot(epochs, acc, 'bo', label='Training acc')\n",
        "plt.plot(epochs, val_acc, 'b', label='Validation acc')\n",
        "plt.title('Training and validation accuracy')\n",
        "plt.xlabel('Epochs')\n",
        "plt.ylabel('Loss')\n",
        "plt.legend()\n",
        "\n",
        "plt.show()"
      ],
      "metadata": {
        "colab": {
          "base_uri": "https://localhost:8080/",
          "height": 472
        },
        "id": "HXugdgcsE7NN",
        "outputId": "8f9b02b9-fab2-4869-b373-4466b17e237d"
      },
      "execution_count": 40,
      "outputs": [
        {
          "output_type": "display_data",
          "data": {
            "text/plain": [
              "<Figure size 640x480 with 1 Axes>"
            ],
            "image/png": "[encoded data removed]"
          },
          "metadata": {}
        }
      ]
    },
    {
      "cell_type": "markdown",
      "source": [
        "**Interpretación de los resultados del entrenamiento**\n",
        "\n",
        "***Overfitting (sobreentrenamiento o sobreajuste)***\n",
        "\n",
        "Como se puede ver, la pérdida de entrenamiento disminuye con cada época, y la precisión del entrenamiento aumenta con cada época. Esto es lo que se esperaría al ejecutar la optimización de gradiente descendente: la cantidad que se intenta minimizar debería ser menor con cada iteración. Sin embargo, este no es el caso de la pérdida de validación y la precisión: parecen alcanzar su punto máximo en la cuarta época.\n",
        "\n",
        "Este es un ejemplo de lo que advertimos anteriormente: un modelo que funciona mejor con los datos de entrenamiento no es necesariamente un modelo que funcionará mejor con datos que nunca antes ha visto.\n",
        "\n",
        "En términos precisos, lo que se observa es sobreajuste: después de la segunda época, se está sobreoptimizando con los datos de entrenamiento y se terminan aprendiendo representaciones específicas de los datos de entrenamiento que no se generalizan a datos fuera del conjunto de entrenamiento."
      ],
      "metadata": {
        "id": "s1YK83qjFh7M"
      }
    },
    {
      "cell_type": "markdown",
      "source": [
        "En este caso, para evitar el sobreajuste, se podría detener el entrenamiento después de tres épocas. En general, se pueden utilizar diversas técnicas para mitigar el sobreajuste, que abordaremos en el capítulo 4."
      ],
      "metadata": {
        "id": "QhvppXn5F19u"
      }
    },
    {
      "cell_type": "markdown",
      "source": [
        "**Reentrenamiento** (Retraining a model from scratch)\n",
        "\n",
        "Entrenemos una nueva red desde cero durante cuatro épocas y luego la evaluemos con los datos de prueba."
      ],
      "metadata": {
        "id": "c_U8jUFZGG9J"
      }
    },
    {
      "cell_type": "code",
      "source": [
        "model = models.Sequential()\n",
        "model.add(layers.Dense(16, activation='relu', input_shape=(10000,)))\n",
        "model.add(layers.Dense(16, activation='relu'))\n",
        "model.add(layers.Dense(1, activation='sigmoid'))\n",
        "\n",
        "model.compile(optimizer='rmsprop',\n",
        "loss='binary_crossentropy',\n",
        "metrics=['accuracy'])\n",
        "\n",
        "model.fit(x_train, y_train, epochs=4, batch_size=512)\n",
        "\n",
        "results = model.evaluate(x_test, y_test)"
      ],
      "metadata": {
        "colab": {
          "base_uri": "https://localhost:8080/"
        },
        "id": "ffvfsSBzGktt",
        "outputId": "8711265a-4f93-4f25-faf3-ae720daa764f"
      },
      "execution_count": 42,
      "outputs": [
        {
          "output_type": "stream",
          "name": "stdout",
          "text": [
            "Epoch 1/4\n",
            "\u001b[1m49/49\u001b[0m \u001b[32m━━━━━━━━━━━━━━━━━━━━\u001b[0m\u001b[37m\u001b[0m \u001b[1m3s\u001b[0m 36ms/step - accuracy: 0.7321 - loss: 0.5565\n",
            "Epoch 2/4\n",
            "\u001b[1m49/49\u001b[0m \u001b[32m━━━━━━━━━━━━━━━━━━━━\u001b[0m\u001b[37m\u001b[0m \u001b[1m2s\u001b[0m 25ms/step - accuracy: 0.9017 - loss: 0.2827\n",
            "Epoch 3/4\n",
            "\u001b[1m49/49\u001b[0m \u001b[32m━━━━━━━━━━━━━━━━━━━━\u001b[0m\u001b[37m\u001b[0m \u001b[1m1s\u001b[0m 25ms/step - accuracy: 0.9254 - loss: 0.2159\n",
            "Epoch 4/4\n",
            "\u001b[1m49/49\u001b[0m \u001b[32m━━━━━━━━━━━━━━━━━━━━\u001b[0m\u001b[37m\u001b[0m \u001b[1m2s\u001b[0m 24ms/step - accuracy: 0.9342 - loss: 0.1845\n",
            "\u001b[1m782/782\u001b[0m \u001b[32m━━━━━━━━━━━━━━━━━━━━\u001b[0m\u001b[37m\u001b[0m \u001b[1m2s\u001b[0m 2ms/step - accuracy: 0.8846 - loss: 0.2856\n"
          ]
        }
      ]
    },
    {
      "cell_type": "code",
      "source": [
        "results\n"
      ],
      "metadata": {
        "colab": {
          "base_uri": "https://localhost:8080/"
        },
        "id": "8g9JhH1yI6q3",
        "outputId": "51308490-aff6-475b-9408-9afafbc12384"
      },
      "execution_count": 43,
      "outputs": [
        {
          "output_type": "execute_result",
          "data": {
            "text/plain": [
              "[0.28419116139411926, 0.8873599767684937]"
            ]
          },
          "metadata": {},
          "execution_count": 43
        }
      ]
    },
    {
      "cell_type": "markdown",
      "source": [
        "Este enfoque, bastante ingenuo, alcanza una precisión del 88 %. Con métodos de vanguardia, se debería poder alcanzar cerca del 95 %."
      ],
      "metadata": {
        "id": "Ra9APl-9JHPm"
      }
    },
    {
      "cell_type": "markdown",
      "source": [
        "**Uso de una red entrenada para generar predicciones sobre nuevos datos**"
      ],
      "metadata": {
        "id": "TuhZI_kyJVPR"
      }
    },
    {
      "cell_type": "markdown",
      "source": [
        "Tras entrenar una red, querrás usarla en un entorno práctico. Puedes calcular la probabilidad de que las reseñas sean positivas mediante el método de predicción:"
      ],
      "metadata": {
        "id": "psgZSp2dJiWS"
      }
    },
    {
      "cell_type": "code",
      "source": [
        "model.predict(x_test)"
      ],
      "metadata": {
        "colab": {
          "base_uri": "https://localhost:8080/"
        },
        "id": "_TBH18pQJmSl",
        "outputId": "e4be422c-b9bc-4894-85e5-46f3e89a4709"
      },
      "execution_count": 49,
      "outputs": [
        {
          "output_type": "stream",
          "name": "stdout",
          "text": [
            "\u001b[1m782/782\u001b[0m \u001b[32m━━━━━━━━━━━━━━━━━━━━\u001b[0m\u001b[37m\u001b[0m \u001b[1m1s\u001b[0m 2ms/step\n"
          ]
        },
        {
          "output_type": "execute_result",
          "data": {
            "text/plain": [
              "array([[0.22055064],\n",
              "       [0.999923  ],\n",
              "       [0.883368  ],\n",
              "       ...,\n",
              "       [0.09840676],\n",
              "       [0.08079841],\n",
              "       [0.58194214]], dtype=float32)"
            ]
          },
          "metadata": {},
          "execution_count": 49
        }
      ]
    },
    {
      "cell_type": "code",
      "source": [
        "predictions = model.predict(x_test)\n",
        "print(predictions.shape)"
      ],
      "metadata": {
        "colab": {
          "base_uri": "https://localhost:8080/"
        },
        "id": "Vf-DzaUFKylm",
        "outputId": "4e4d62dc-5a19-45fb-dfe1-8deee1f64931"
      },
      "execution_count": 50,
      "outputs": [
        {
          "output_type": "stream",
          "name": "stdout",
          "text": [
            "\u001b[1m782/782\u001b[0m \u001b[32m━━━━━━━━━━━━━━━━━━━━\u001b[0m\u001b[37m\u001b[0m \u001b[1m2s\u001b[0m 2ms/step\n",
            "(25000, 1)\n"
          ]
        }
      ]
    },
    {
      "cell_type": "markdown",
      "source": [
        "Como se puede ver, la red es confiable para algunas muestras (0,99 o más, o 0,01 o menos), pero menos confiable para otras (0,6, 0,4)."
      ],
      "metadata": {
        "id": "-u4yGlCyKT23"
      }
    },
    {
      "cell_type": "markdown",
      "source": [
        "**Experimentos adicionales**\n",
        "\n",
        "Los siguientes experimentos le ayudarán a convencerse de que las decisiones de arquitectura que ha tomado son bastante razonables, aunque aún hay margen de mejora:\n",
        "\n",
        "1. Ha utilizado dos capas ocultas. Pruebe a usar una o tres capas ocultas y\n",
        "  observe cómo esto afecta la validación y la precisión de las pruebas.\n",
        "\n",
        "2. Pruebe a usar capas con más o menos unidades ocultas: 32 unidades, 64\n",
        "   unidades, etc.\n",
        "\n",
        "3. Pruebe a usar la función de pérdida mse en lugar de binary_crossentropy.\n",
        "\n",
        "4. Pruebe a usar la activación tanh (una activación popular en los inicios\n",
        "   de las redes neuronales) en lugar de relu."
      ],
      "metadata": {
        "id": "YbC-8g64KaIx"
      }
    },
    {
      "cell_type": "markdown",
      "source": [
        "\n",
        "**Conclusiones**\n",
        "\n",
        "***Esto es lo que debes sacar de este ejemplo:***\n",
        "\n",
        "\n",
        "Normalmente, se requiere un preprocesamiento considerable de los datos sin procesar para poder alimentarlos (como tensores) a una red neuronal. Las secuencias de palabras se pueden codificar como vectores binarios, pero también existen otras opciones de codificación.\n",
        "\n",
        "Las pilas de capas densas con activaciones relu pueden resolver una amplia gama de problemas (incluida la clasificación de sentimientos), y probablemente se utilicen con frecuencia.\n",
        "\n",
        "En un problema de clasificación binaria (dos clases de salida), la red debe terminar con una capa densa con una unidad y una activación sigmoidea: la salida de la red debe ser un escalar entre 0 y 1, que codifica una probabilidad.\n",
        "\n",
        "Con una salida escalar sigmoidea de este tipo en un problema de clasificación binaria, la función de pérdida que se debe utilizar es binary_crossentropy.\n",
        "\n",
        "El optimizador rmsprop suele ser una buena opción, sea cual sea el problema. Es una preocupación menos.\n",
        "\n",
        "A medida que mejoran sus datos de entrenamiento, las redes neuronales comienzan a sobreajustarse y obtienen resultados cada vez peores con datos nunca antes vistos. Asegúrese de supervisar siempre el rendimiento con datos fuera del conjunto de entrenamiento."
      ],
      "metadata": {
        "id": "i5aZPXCpMAnv"
      }
    },
    {
      "cell_type": "markdown",
      "source": [],
      "metadata": {
        "id": "R356UgtZM7mY"
      }
    }
  ]
}